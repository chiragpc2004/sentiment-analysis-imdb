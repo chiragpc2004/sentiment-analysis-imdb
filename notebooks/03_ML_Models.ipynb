{
 "cells": [
  {
   "cell_type": "markdown",
   "id": "1e12682d",
   "metadata": {},
   "source": [
    "# **Sentiment Analysis on [IMDB Dataset of 50K Movie Reviews](https://www.kaggle.com/datasets/lakshmi25npathi/imdb-dataset-of-50k-movie-reviews/data)**"
   ]
  },
  {
   "cell_type": "markdown",
   "id": "366f725e",
   "metadata": {},
   "source": [
    "## 🚀 **Let's Connect!**\n",
    "<p align=\"left\"> <a href=\"https://github.com/chiragpc2004\" target=\"_blank\"> <img src=\"https://img.shields.io/badge/GitHub-%23181717.svg?&style=for-the-badge&logo=github&logoColor=white\" alt=\"GitHub\"/> </a> <a href=\"https://www.linkedin.com/in/chiragpc2004/\" target=\"_blank\"> <img src=\"https://img.shields.io/badge/LinkedIn-%230077B5.svg?&style=for-the-badge&logo=linkedin&logoColor=white\" alt=\"LinkedIn\"/> </a> <a href=\"https://mail.google.com/mail/?view=cm&fs=1&to=chiragpc2004@gmail.com\" target=\"_blank\"> <img src=\"https://img.shields.io/badge/Gmail-%23D14836.svg?&style=for-the-badge&logo=gmail&logoColor=white\" alt=\"Gmail\"/> </a> </p>"
   ]
  },
  {
   "cell_type": "markdown",
   "id": "bf1c8cf9",
   "metadata": {},
   "source": [
    "## **Machine Learning Models**"
   ]
  },
  {
   "cell_type": "markdown",
   "id": "3855f02b",
   "metadata": {},
   "source": [
    "Now that we have our data cleaned, preprocessed, and split into training and testing sets, we are ready to begin model building and training. To understand the performance across different levels of model complexity, we will experiment with three ML models as follows:\n",
    "\n",
    "1. **Logistic Regression** – A simple and interpretable linear model that serves as a solid baseline.\n",
    "2. **Naive Bayes** – Another lightweight model particularly effective for text classification tasks.\n",
    "3. **Gradient Boosting** – A powerful ensemble technique that combines weak learners to form a strong predictor.\n",
    "\n",
    "This progression will help us analyse the effectiveness of traditional machine learning algorithms for sentiment classification."
   ]
  },
  {
   "cell_type": "markdown",
   "id": "62384501",
   "metadata": {},
   "source": [
    "#### Import statements"
   ]
  },
  {
   "cell_type": "code",
   "execution_count": 60,
   "id": "7db5e707",
   "metadata": {},
   "outputs": [],
   "source": [
    "# Core and Data Handling\n",
    "import pandas as pd\n",
    "import numpy as np\n",
    "\n",
    "# Encoding and Feature Extraction\n",
    "from sklearn.feature_extraction.text import TfidfVectorizer\n",
    "\n",
    "# Model Training and Evaluation\n",
    "from sklearn.model_selection import train_test_split\n",
    "from sklearn.linear_model import LogisticRegression\n",
    "from sklearn.naive_bayes import MultinomialNB\n",
    "import xgboost as xgb # type: ignore\n",
    "from sklearn.metrics import accuracy_score, confusion_matrix, ConfusionMatrixDisplay"
   ]
  },
  {
   "cell_type": "code",
   "execution_count": 61,
   "id": "1c4766d2",
   "metadata": {},
   "outputs": [
    {
     "data": {
      "text/html": [
       "<div>\n",
       "<style scoped>\n",
       "    .dataframe tbody tr th:only-of-type {\n",
       "        vertical-align: middle;\n",
       "    }\n",
       "\n",
       "    .dataframe tbody tr th {\n",
       "        vertical-align: top;\n",
       "    }\n",
       "\n",
       "    .dataframe thead th {\n",
       "        text-align: right;\n",
       "    }\n",
       "</style>\n",
       "<table border=\"1\" class=\"dataframe\">\n",
       "  <thead>\n",
       "    <tr style=\"text-align: right;\">\n",
       "      <th></th>\n",
       "      <th>review</th>\n",
       "      <th>sentiment</th>\n",
       "    </tr>\n",
       "  </thead>\n",
       "  <tbody>\n",
       "    <tr>\n",
       "      <th>0</th>\n",
       "      <td>one reviewer mentioned watching oz episode you...</td>\n",
       "      <td>1</td>\n",
       "    </tr>\n",
       "    <tr>\n",
       "      <th>1</th>\n",
       "      <td>wonderful little production filming technique ...</td>\n",
       "      <td>1</td>\n",
       "    </tr>\n",
       "    <tr>\n",
       "      <th>2</th>\n",
       "      <td>thought wonderful way spend time hot summer we...</td>\n",
       "      <td>1</td>\n",
       "    </tr>\n",
       "    <tr>\n",
       "      <th>3</th>\n",
       "      <td>basically there family little boy jake think t...</td>\n",
       "      <td>0</td>\n",
       "    </tr>\n",
       "    <tr>\n",
       "      <th>4</th>\n",
       "      <td>petter matteis love time money visually stunni...</td>\n",
       "      <td>1</td>\n",
       "    </tr>\n",
       "  </tbody>\n",
       "</table>\n",
       "</div>"
      ],
      "text/plain": [
       "                                              review  sentiment\n",
       "0  one reviewer mentioned watching oz episode you...          1\n",
       "1  wonderful little production filming technique ...          1\n",
       "2  thought wonderful way spend time hot summer we...          1\n",
       "3  basically there family little boy jake think t...          0\n",
       "4  petter matteis love time money visually stunni...          1"
      ]
     },
     "execution_count": 61,
     "metadata": {},
     "output_type": "execute_result"
    }
   ],
   "source": [
    "# Read the dataset\n",
    "df = pd.read_csv(\"D:/imdb-sentiment-classifier/data/processed/cleaned_data.csv\")\n",
    "df.head()"
   ]
  },
  {
   "cell_type": "markdown",
   "id": "7f839e95",
   "metadata": {},
   "source": [
    "### Data Preparation"
   ]
  },
  {
   "cell_type": "markdown",
   "id": "a2d5c8ea",
   "metadata": {},
   "source": [
    "#### Vectorization"
   ]
  },
  {
   "cell_type": "code",
   "execution_count": 62,
   "id": "67268d31",
   "metadata": {},
   "outputs": [],
   "source": [
    "# Vectorization for Machine Learning models\n",
    "vectorizer = TfidfVectorizer()\n",
    "X_ml = vectorizer.fit_transform(df['review'])"
   ]
  },
  {
   "cell_type": "markdown",
   "id": "25cd6e7e",
   "metadata": {},
   "source": [
    "#### Train Test Split\n",
    "To evaluate the performance of our sentiment classification model effectively, we split the dataset into training and testing sets using an 80-20 ratio. This ensures that the model is trained on a majority of the data while still being evaluated on an unseen portion, helping us assess its generalization ability. The train_test_split function from Scikit-learn was used for this purpose, with stratification based on sentiment labels to maintain the original class distribution in both subsets. This stratified split prevents data imbalance issues and provides a more reliable estimate of the model’s real-world performance."
   ]
  },
  {
   "cell_type": "code",
   "execution_count": 63,
   "id": "1049d49f",
   "metadata": {},
   "outputs": [],
   "source": [
    "X = X_ml\n",
    "y = df['sentiment']\n",
    "X_train, X_test, y_train, y_test = train_test_split(X, y,test_size=0.2,random_state=42)"
   ]
  },
  {
   "cell_type": "markdown",
   "id": "8156846e",
   "metadata": {},
   "source": [
    "#### **1. Logistic Regression**"
   ]
  },
  {
   "cell_type": "code",
   "execution_count": 64,
   "id": "be3a585b",
   "metadata": {},
   "outputs": [],
   "source": [
    "lr = LogisticRegression(random_state=42) #Build a model\n",
    "lr.fit(X_train, y_train) #Train the model\n",
    "y_pred = lr.predict(X_test) #Make predictions"
   ]
  },
  {
   "cell_type": "code",
   "execution_count": 65,
   "id": "ef26f84c",
   "metadata": {},
   "outputs": [
    {
     "name": "stdout",
     "output_type": "stream",
     "text": [
      "Accuracy Score: 0.8919027931834224\n",
      "Confusion Matrix:\n",
      "[[4327  612]\n",
      " [ 460 4518]]\n"
     ]
    }
   ],
   "source": [
    "# Print accuracy\n",
    "print(\"Accuracy Score:\", accuracy_score(y_test, y_pred))\n",
    "\n",
    "# Print confusion matrix\n",
    "cm = confusion_matrix(y_test, y_pred)\n",
    "print(\"Confusion Matrix:\")\n",
    "print(cm)"
   ]
  },
  {
   "cell_type": "code",
   "execution_count": 66,
   "id": "b3a48a40",
   "metadata": {},
   "outputs": [
    {
     "data": {
      "image/png": "[encoded data removed]",
      "text/plain": [
       "<Figure size 640x480 with 2 Axes>"
      ]
     },
     "metadata": {},
     "output_type": "display_data"
    }
   ],
   "source": [
    "# Display confusion matrix\n",
    "disp = ConfusionMatrixDisplay(confusion_matrix=cm)\n",
    "disp.plot(cmap=plt.cm.Blues)\n",
    "plt.title('Confusion Matrix')\n",
    "plt.show()"
   ]
  },
  {
   "cell_type": "markdown",
   "id": "193e1225",
   "metadata": {},
   "source": [
    "#### **2. Naive Bayes Classifier**"
   ]
  },
  {
   "cell_type": "code",
   "execution_count": 67,
   "id": "2357bb35",
   "metadata": {},
   "outputs": [],
   "source": [
    "nb = MultinomialNB() #Build a model\n",
    "nb.fit(X_train, y_train) #Train the model\n",
    "y_pred = nb.predict(X_test) #Make predictions"
   ]
  },
  {
   "cell_type": "code",
   "execution_count": 68,
   "id": "ddd50417",
   "metadata": {},
   "outputs": [
    {
     "name": "stdout",
     "output_type": "stream",
     "text": [
      "Accuracy Score: 0.8634667742260764\n",
      "Confusion Matrix:\n",
      "[[4293  646]\n",
      " [ 708 4270]]\n"
     ]
    }
   ],
   "source": [
    "# Print accuracy\n",
    "print(\"Accuracy Score:\", accuracy_score(y_test, y_pred))\n",
    "\n",
    "# Print confusion matrix\n",
    "cm = confusion_matrix(y_test, y_pred)\n",
    "print(\"Confusion Matrix:\")\n",
    "print(cm)"
   ]
  },
  {
   "cell_type": "code",
   "execution_count": 69,
   "id": "a3f08ee1",
   "metadata": {},
   "outputs": [
    {
     "data": {
      "image/png": "[encoded data removed]",
      "text/plain": [
       "<Figure size 640x480 with 2 Axes>"
      ]
     },
     "metadata": {},
     "output_type": "display_data"
    }
   ],
   "source": [
    "# Display confusion matrix\n",
    "disp = ConfusionMatrixDisplay(confusion_matrix=cm)\n",
    "disp.plot(cmap=plt.cm.Blues)\n",
    "plt.title('Confusion Matrix')\n",
    "plt.show()"
   ]
  },
  {
   "cell_type": "markdown",
   "id": "92edf3ee",
   "metadata": {},
   "source": [
    "#### **3. Gradient Boosting using XGBoost**"
   ]
  },
  {
   "cell_type": "code",
   "execution_count": 70,
   "id": "39778dc0",
   "metadata": {},
   "outputs": [],
   "source": [
    "xg = xgb.XGBClassifier(n_jobs=-1) #Build a model\n",
    "xg.fit(X_train, y_train) #Train the model\n",
    "y_pred = xg.predict(X_test) #Make predictions"
   ]
  },
  {
   "cell_type": "code",
   "execution_count": 71,
   "id": "482563ff",
   "metadata": {},
   "outputs": [
    {
     "name": "stdout",
     "output_type": "stream",
     "text": [
      "Accuracy Score: 0.848240395280831\n",
      "Confusion Matrix:\n",
      "[[4049  890]\n",
      " [ 615 4363]]\n"
     ]
    }
   ],
   "source": [
    "# Print accuracy\n",
    "print(\"Accuracy Score:\", accuracy_score(y_test, y_pred))\n",
    "\n",
    "# Print confusion matrix\n",
    "cm = confusion_matrix(y_test, y_pred)\n",
    "print(\"Confusion Matrix:\")\n",
    "print(cm)"
   ]
  },
  {
   "cell_type": "code",
   "execution_count": 73,
   "id": "15c46c73",
   "metadata": {},
   "outputs": [
    {
     "data": {
      "image/png": "[encoded data removed]",
      "text/plain": [
       "<Figure size 640x480 with 2 Axes>"
      ]
     },
     "metadata": {},
     "output_type": "display_data"
    }
   ],
   "source": [
    "# Display confusion matrix\n",
    "disp = ConfusionMatrixDisplay(confusion_matrix=cm)\n",
    "disp.plot(cmap=plt.cm.Blues)\n",
    "plt.title('Confusion Matrix')\n",
    "plt.show()"
   ]
  },
  {
   "cell_type": "markdown",
   "id": "1092f2d2",
   "metadata": {},
   "source": [
    "### **Prediction based on new data**"
   ]
  },
  {
   "cell_type": "code",
   "execution_count": 72,
   "id": "6d15df09",
   "metadata": {},
   "outputs": [
    {
     "name": "stdout",
     "output_type": "stream",
     "text": [
      "Positive\n",
      "Positive\n",
      "Positive\n"
     ]
    }
   ],
   "source": [
    "def classify_message(model, vectorizer, message):\n",
    "     # Traditional ML (LR, NB, XGBoost)\n",
    "    message_vect = vectorizer.transform([message])\n",
    "    prediction = model.predict(message_vect)\n",
    "    return \"Positive\" if prediction[0] == 1 else \"Negative\"\n",
    "\n",
    "message = \"The movie was so good\"\n",
    "print(classify_message(lr, vectorizer, message))\n",
    "print(classify_message(nb, vectorizer, message))\n",
    "print(classify_message(xg, vectorizer, message))"
   ]
  }
 ],
 "metadata": {
  "kernelspec": {
   "display_name": "base",
   "language": "python",
   "name": "python3"
  },
  "language_info": {
   "codemirror_mode": {
    "name": "ipython",
    "version": 3
   },
   "file_extension": ".py",
   "mimetype": "text/x-python",
   "name": "python",
   "nbconvert_exporter": "python",
   "pygments_lexer": "ipython3",
   "version": "3.12.7"
  }
 },
 "nbformat": 4,
 "nbformat_minor": 5
}
